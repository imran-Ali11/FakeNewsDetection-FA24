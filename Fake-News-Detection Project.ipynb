{
  "nbformat": 4,
  "nbformat_minor": 0,
  "metadata": {
    "colab": {
      "provenance": []
    },
    "kernelspec": {
      "name": "python3",
      "display_name": "Python 3"
    },
    "language_info": {
      "name": "python"
    }
  },
  "cells": [
    {
      "cell_type": "markdown",
      "source": [
        "## **FAKE NEWS DETECTION USING URDU DATASET**"
      ],
      "metadata": {
        "id": "4DDtN8xfnFak"
      }
    },
    {
      "cell_type": "markdown",
      "source": [
        "**INTRODUCTION**\n",
        "\n",
        "The rise of misinformation and fake news has become a significant societal\n",
        "issue, impacting public\n",
        "trust in media and influencing opinions on a large scale. This project aims to develop an automated\n",
        "machine learning system that identifies fake news by analyzing article text. By classifying articles\n",
        "as \"real\" or \"fake,\" this system will help users discern credible information sources from potentially\n",
        "misleading ones.\n"
      ],
      "metadata": {
        "id": "rzu4D8CJrCbE"
      }
    },
    {
      "cell_type": "markdown",
      "source": [
        "**IMPORTANCE**\n",
        "\n",
        "Fake news has the power to shape public opinion, spread misinformation, and polarize society. An\n",
        "effective detection system can play a crucial role in improving the reliability of information,\n",
        "supporting media literacy, and rebuilding trust in news sources. This tool could be valuable not\n",
        "only for individual users but also for news agencies, social media platforms, and organizations\n",
        "looking to maintain a high standard of information accuracy.\n"
      ],
      "metadata": {
        "id": "w99OykOsrs-0"
      }
    },
    {
      "cell_type": "markdown",
      "source": [
        "**FEATURES**\n",
        "\n",
        "\n",
        "1.   **FAKE NEWS:** The feature considered as Non-Authentic/Fake News.\n",
        "2.   **TRUE NEWS:** The feature considered as Authentic News.\n",
        "\n"
      ],
      "metadata": {
        "id": "bcXDcg_osNSQ"
      }
    },
    {
      "cell_type": "markdown",
      "source": [
        "**PROBLEM STATEMENT**\n",
        "\n",
        "In today’s digital landscape, where news spreads rapidly, distinguishing credible sources from\n",
        "misinformation is increasingly difficult. Our project seeks to address this issue by employing\n",
        "machine learning to analyze linguistic patterns in news articles, enhancing classification accuracy\n",
        "and reducing the impact of fake news. Through this project, we aim to create a reliable system that\n",
        "helps users easily identify fake news and make informed decisions."
      ],
      "metadata": {
        "id": "Nyi-8igWsrpY"
      }
    },
    {
      "cell_type": "markdown",
      "source": [
        "**BUSINESS QUESTIONS**\n",
        "\n",
        "\n",
        "\n",
        "1.   What linguistic or structural differences exist between fake and real news articles?\n",
        "2.    Which topics or subjects are more prone to fake news compared to real news?\n",
        "3.    How do publication dates influence the prevalence of fake news?\n",
        "4.    How well does the model generalize across different topics or subjects?\n",
        "5.  What is the potential accuracy or reliability of the fake news detection model?\n",
        "6. How can this fake news detection model integrate with social media or news platforms to\n",
        "maximize impact?\n",
        "7. . What are the social and ethical implications of deploying this system in news\n",
        "dissemination?\n",
        "\n",
        "\n",
        "\n"
      ],
      "metadata": {
        "id": "CK5Pfnvts6Mo"
      }
    },
    {
      "cell_type": "code",
      "source": [
        "import os\n",
        "import pandas as pd\n",
        "from sklearn.model_selection import train_test_split\n",
        "from sklearn.feature_extraction.text import TfidfVectorizer\n",
        "from sklearn.naive_bayes import MultinomialNB\n",
        "from sklearn.linear_model import LogisticRegression\n",
        "from sklearn.svm import SVC\n",
        "from sklearn.metrics import classification_report, accuracy_score\n",
        "import matplotlib.pyplot as plt\n"
      ],
      "metadata": {
        "id": "Hvvl4hilMMI1"
      },
      "execution_count": null,
      "outputs": []
    },
    {
      "cell_type": "markdown",
      "source": [
        "**DataSet Load**"
      ],
      "metadata": {
        "id": "IzqyP_D7KYEO"
      }
    },
    {
      "cell_type": "code",
      "source": [
        "dataset=pd.read_csv('/content/Combined .csv')\n",
        "\n",
        "dataset.head(10)"
      ],
      "metadata": {
        "colab": {
          "base_uri": "https://localhost:8080/",
          "height": 363
        },
        "id": "RJP1Mxs_JvOK",
        "outputId": "8cef8d72-7b81-4693-8adf-e54e5b15fe27"
      },
      "execution_count": null,
      "outputs": [
        {
          "output_type": "execute_result",
          "data": {
            "text/plain": [
              "  Sr. No.                                         News Items Label\n",
              "0       1  ٹی ٹی پی نے پنجاب حکومت کے ہیلی کاپٹر کے عملے ...  FAKE\n",
              "1       2          مارک زکربرگ سیاست میں آنے کا سوچ رہے ہیں۔  FAKE\n",
              "2       3     فریدہ جلال نے اپنی موت کی افواہوں پر تنقید کی۔  FAKE\n",
              "3       4  جعلی خبریں: پاپ اسٹار حدیقہ کیانی نے جعلی منشی...  FAKE\n",
              "4       5  صنم ماروی نے میڈیا پر گردش کرنے والی زیادتی او...  FAKE\n",
              "5       6  نواز شریف نے واقعی کرپشن کی وجہ سے ڈیووس میں ت...  FAKE\n",
              "6       7  پی ایف اے کی ’آئرن لیڈی‘ عائشہ ممتاز کا ویڈیو-...  FAKE\n",
              "7       8                   CPEC  کے بارے میں خطرناک افواہیں  FAKE\n",
              "8       9  امریکہ نے القاعدہ کی جعلی ویڈیوز بنانے پر کروڑ...  FAKE\n",
              "9      10  پاکستان کا جعلی پروگرام نشر کرنے پر بھارتی چین...  FAKE"
            ],
            "text/html": [
              "\n",
              "  <div id=\"df-d4283ac0-f381-41b9-a711-16655ad9378e\" class=\"colab-df-container\">\n",
              "    <div>\n",
              "<style scoped>\n",
              "    .dataframe tbody tr th:only-of-type {\n",
              "        vertical-align: middle;\n",
              "    }\n",
              "\n",
              "    .dataframe tbody tr th {\n",
              "        vertical-align: top;\n",
              "    }\n",
              "\n",
              "    .dataframe thead th {\n",
              "        text-align: right;\n",
              "    }\n",
              "</style>\n",
              "<table border=\"1\" class=\"dataframe\">\n",
              "  <thead>\n",
              "    <tr style=\"text-align: right;\">\n",
              "      <th></th>\n",
              "      <th>Sr. No.</th>\n",
              "      <th>News Items</th>\n",
              "      <th>Label</th>\n",
              "    </tr>\n",
              "  </thead>\n",
              "  <tbody>\n",
              "    <tr>\n",
              "      <th>0</th>\n",
              "      <td>1</td>\n",
              "      <td>ٹی ٹی پی نے پنجاب حکومت کے ہیلی کاپٹر کے عملے ...</td>\n",
              "      <td>FAKE</td>\n",
              "    </tr>\n",
              "    <tr>\n",
              "      <th>1</th>\n",
              "      <td>2</td>\n",
              "      <td>مارک زکربرگ سیاست میں آنے کا سوچ رہے ہیں۔</td>\n",
              "      <td>FAKE</td>\n",
              "    </tr>\n",
              "    <tr>\n",
              "      <th>2</th>\n",
              "      <td>3</td>\n",
              "      <td>فریدہ جلال نے اپنی موت کی افواہوں پر تنقید کی۔</td>\n",
              "      <td>FAKE</td>\n",
              "    </tr>\n",
              "    <tr>\n",
              "      <th>3</th>\n",
              "      <td>4</td>\n",
              "      <td>جعلی خبریں: پاپ اسٹار حدیقہ کیانی نے جعلی منشی...</td>\n",
              "      <td>FAKE</td>\n",
              "    </tr>\n",
              "    <tr>\n",
              "      <th>4</th>\n",
              "      <td>5</td>\n",
              "      <td>صنم ماروی نے میڈیا پر گردش کرنے والی زیادتی او...</td>\n",
              "      <td>FAKE</td>\n",
              "    </tr>\n",
              "    <tr>\n",
              "      <th>5</th>\n",
              "      <td>6</td>\n",
              "      <td>نواز شریف نے واقعی کرپشن کی وجہ سے ڈیووس میں ت...</td>\n",
              "      <td>FAKE</td>\n",
              "    </tr>\n",
              "    <tr>\n",
              "      <th>6</th>\n",
              "      <td>7</td>\n",
              "      <td>پی ایف اے کی ’آئرن لیڈی‘ عائشہ ممتاز کا ویڈیو-...</td>\n",
              "      <td>FAKE</td>\n",
              "    </tr>\n",
              "    <tr>\n",
              "      <th>7</th>\n",
              "      <td>8</td>\n",
              "      <td>CPEC  کے بارے میں خطرناک افواہیں</td>\n",
              "      <td>FAKE</td>\n",
              "    </tr>\n",
              "    <tr>\n",
              "      <th>8</th>\n",
              "      <td>9</td>\n",
              "      <td>امریکہ نے القاعدہ کی جعلی ویڈیوز بنانے پر کروڑ...</td>\n",
              "      <td>FAKE</td>\n",
              "    </tr>\n",
              "    <tr>\n",
              "      <th>9</th>\n",
              "      <td>10</td>\n",
              "      <td>پاکستان کا جعلی پروگرام نشر کرنے پر بھارتی چین...</td>\n",
              "      <td>FAKE</td>\n",
              "    </tr>\n",
              "  </tbody>\n",
              "</table>\n",
              "</div>\n",
              "    <div class=\"colab-df-buttons\">\n",
              "\n",
              "  <div class=\"colab-df-container\">\n",
              "    <button class=\"colab-df-convert\" onclick=\"convertToInteractive('df-d4283ac0-f381-41b9-a711-16655ad9378e')\"\n",
              "            title=\"Convert this dataframe to an interactive table.\"\n",
              "            style=\"display:none;\">\n",
              "\n",
              "  <svg xmlns=\"http://www.w3.org/2000/svg\" height=\"24px\" viewBox=\"0 -960 960 960\">\n",
              "    <path d=\"M120-120v-720h720v720H120Zm60-500h600v-160H180v160Zm220 220h160v-160H400v160Zm0 220h160v-160H400v160ZM180-400h160v-160H180v160Zm440 0h160v-160H620v160ZM180-180h160v-160H180v160Zm440 0h160v-160H620v160Z\"/>\n",
              "  </svg>\n",
              "    </button>\n",
              "\n",
              "  <style>\n",
              "    .colab-df-container {\n",
              "      display:flex;\n",
              "      gap: 12px;\n",
              "    }\n",
              "\n",
              "    .colab-df-convert {\n",
              "      background-color: #E8F0FE;\n",
              "      border: none;\n",
              "      border-radius: 50%;\n",
              "      cursor: pointer;\n",
              "      display: none;\n",
              "      fill: #1967D2;\n",
              "      height: 32px;\n",
              "      padding: 0 0 0 0;\n",
              "      width: 32px;\n",
              "    }\n",
              "\n",
              "    .colab-df-convert:hover {\n",
              "      background-color: #E2EBFA;\n",
              "      box-shadow: 0px 1px 2px rgba(60, 64, 67, 0.3), 0px 1px 3px 1px rgba(60, 64, 67, 0.15);\n",
              "      fill: #174EA6;\n",
              "    }\n",
              "\n",
              "    .colab-df-buttons div {\n",
              "      margin-bottom: 4px;\n",
              "    }\n",
              "\n",
              "    [theme=dark] .colab-df-convert {\n",
              "      background-color: #3B4455;\n",
              "      fill: #D2E3FC;\n",
              "    }\n",
              "\n",
              "    [theme=dark] .colab-df-convert:hover {\n",
              "      background-color: #434B5C;\n",
              "      box-shadow: 0px 1px 3px 1px rgba(0, 0, 0, 0.15);\n",
              "      filter: drop-shadow(0px 1px 2px rgba(0, 0, 0, 0.3));\n",
              "      fill: #FFFFFF;\n",
              "    }\n",
              "  </style>\n",
              "\n",
              "    <script>\n",
              "      const buttonEl =\n",
              "        document.querySelector('#df-d4283ac0-f381-41b9-a711-16655ad9378e button.colab-df-convert');\n",
              "      buttonEl.style.display =\n",
              "        google.colab.kernel.accessAllowed ? 'block' : 'none';\n",
              "\n",
              "      async function convertToInteractive(key) {\n",
              "        const element = document.querySelector('#df-d4283ac0-f381-41b9-a711-16655ad9378e');\n",
              "        const dataTable =\n",
              "          await google.colab.kernel.invokeFunction('convertToInteractive',\n",
              "                                                    [key], {});\n",
              "        if (!dataTable) return;\n",
              "\n",
              "        const docLinkHtml = 'Like what you see? Visit the ' +\n",
              "          '<a target=\"_blank\" href=https://colab.research.google.com/notebooks/data_table.ipynb>data table notebook</a>'\n",
              "          + ' to learn more about interactive tables.';\n",
              "        element.innerHTML = '';\n",
              "        dataTable['output_type'] = 'display_data';\n",
              "        await google.colab.output.renderOutput(dataTable, element);\n",
              "        const docLink = document.createElement('div');\n",
              "        docLink.innerHTML = docLinkHtml;\n",
              "        element.appendChild(docLink);\n",
              "      }\n",
              "    </script>\n",
              "  </div>\n",
              "\n",
              "\n",
              "<div id=\"df-9ddb6e05-9a69-444e-828f-f9092570b0ac\">\n",
              "  <button class=\"colab-df-quickchart\" onclick=\"quickchart('df-9ddb6e05-9a69-444e-828f-f9092570b0ac')\"\n",
              "            title=\"Suggest charts\"\n",
              "            style=\"display:none;\">\n",
              "\n",
              "<svg xmlns=\"http://www.w3.org/2000/svg\" height=\"24px\"viewBox=\"0 0 24 24\"\n",
              "     width=\"24px\">\n",
              "    <g>\n",
              "        <path d=\"M19 3H5c-1.1 0-2 .9-2 2v14c0 1.1.9 2 2 2h14c1.1 0 2-.9 2-2V5c0-1.1-.9-2-2-2zM9 17H7v-7h2v7zm4 0h-2V7h2v10zm4 0h-2v-4h2v4z\"/>\n",
              "    </g>\n",
              "</svg>\n",
              "  </button>\n",
              "\n",
              "<style>\n",
              "  .colab-df-quickchart {\n",
              "      --bg-color: #E8F0FE;\n",
              "      --fill-color: #1967D2;\n",
              "      --hover-bg-color: #E2EBFA;\n",
              "      --hover-fill-color: #174EA6;\n",
              "      --disabled-fill-color: #AAA;\n",
              "      --disabled-bg-color: #DDD;\n",
              "  }\n",
              "\n",
              "  [theme=dark] .colab-df-quickchart {\n",
              "      --bg-color: #3B4455;\n",
              "      --fill-color: #D2E3FC;\n",
              "      --hover-bg-color: #434B5C;\n",
              "      --hover-fill-color: #FFFFFF;\n",
              "      --disabled-bg-color: #3B4455;\n",
              "      --disabled-fill-color: #666;\n",
              "  }\n",
              "\n",
              "  .colab-df-quickchart {\n",
              "    background-color: var(--bg-color);\n",
              "    border: none;\n",
              "    border-radius: 50%;\n",
              "    cursor: pointer;\n",
              "    display: none;\n",
              "    fill: var(--fill-color);\n",
              "    height: 32px;\n",
              "    padding: 0;\n",
              "    width: 32px;\n",
              "  }\n",
              "\n",
              "  .colab-df-quickchart:hover {\n",
              "    background-color: var(--hover-bg-color);\n",
              "    box-shadow: 0 1px 2px rgba(60, 64, 67, 0.3), 0 1px 3px 1px rgba(60, 64, 67, 0.15);\n",
              "    fill: var(--button-hover-fill-color);\n",
              "  }\n",
              "\n",
              "  .colab-df-quickchart-complete:disabled,\n",
              "  .colab-df-quickchart-complete:disabled:hover {\n",
              "    background-color: var(--disabled-bg-color);\n",
              "    fill: var(--disabled-fill-color);\n",
              "    box-shadow: none;\n",
              "  }\n",
              "\n",
              "  .colab-df-spinner {\n",
              "    border: 2px solid var(--fill-color);\n",
              "    border-color: transparent;\n",
              "    border-bottom-color: var(--fill-color);\n",
              "    animation:\n",
              "      spin 1s steps(1) infinite;\n",
              "  }\n",
              "\n",
              "  @keyframes spin {\n",
              "    0% {\n",
              "      border-color: transparent;\n",
              "      border-bottom-color: var(--fill-color);\n",
              "      border-left-color: var(--fill-color);\n",
              "    }\n",
              "    20% {\n",
              "      border-color: transparent;\n",
              "      border-left-color: var(--fill-color);\n",
              "      border-top-color: var(--fill-color);\n",
              "    }\n",
              "    30% {\n",
              "      border-color: transparent;\n",
              "      border-left-color: var(--fill-color);\n",
              "      border-top-color: var(--fill-color);\n",
              "      border-right-color: var(--fill-color);\n",
              "    }\n",
              "    40% {\n",
              "      border-color: transparent;\n",
              "      border-right-color: var(--fill-color);\n",
              "      border-top-color: var(--fill-color);\n",
              "    }\n",
              "    60% {\n",
              "      border-color: transparent;\n",
              "      border-right-color: var(--fill-color);\n",
              "    }\n",
              "    80% {\n",
              "      border-color: transparent;\n",
              "      border-right-color: var(--fill-color);\n",
              "      border-bottom-color: var(--fill-color);\n",
              "    }\n",
              "    90% {\n",
              "      border-color: transparent;\n",
              "      border-bottom-color: var(--fill-color);\n",
              "    }\n",
              "  }\n",
              "</style>\n",
              "\n",
              "  <script>\n",
              "    async function quickchart(key) {\n",
              "      const quickchartButtonEl =\n",
              "        document.querySelector('#' + key + ' button');\n",
              "      quickchartButtonEl.disabled = true;  // To prevent multiple clicks.\n",
              "      quickchartButtonEl.classList.add('colab-df-spinner');\n",
              "      try {\n",
              "        const charts = await google.colab.kernel.invokeFunction(\n",
              "            'suggestCharts', [key], {});\n",
              "      } catch (error) {\n",
              "        console.error('Error during call to suggestCharts:', error);\n",
              "      }\n",
              "      quickchartButtonEl.classList.remove('colab-df-spinner');\n",
              "      quickchartButtonEl.classList.add('colab-df-quickchart-complete');\n",
              "    }\n",
              "    (() => {\n",
              "      let quickchartButtonEl =\n",
              "        document.querySelector('#df-9ddb6e05-9a69-444e-828f-f9092570b0ac button');\n",
              "      quickchartButtonEl.style.display =\n",
              "        google.colab.kernel.accessAllowed ? 'block' : 'none';\n",
              "    })();\n",
              "  </script>\n",
              "</div>\n",
              "\n",
              "    </div>\n",
              "  </div>\n"
            ],
            "application/vnd.google.colaboratory.intrinsic+json": {
              "type": "dataframe",
              "variable_name": "dataset",
              "summary": "{\n  \"name\": \"dataset\",\n  \"rows\": 10106,\n  \"fields\": [\n    {\n      \"column\": \"Sr. No.\",\n      \"properties\": {\n        \"dtype\": \"string\",\n        \"num_unique_values\": 5054,\n        \"samples\": [\n          \"1130\",\n          \"2317\",\n          \"722\"\n        ],\n        \"semantic_type\": \"\",\n        \"description\": \"\"\n      }\n    },\n    {\n      \"column\": \"News Items\",\n      \"properties\": {\n        \"dtype\": \"string\",\n        \"num_unique_values\": 9236,\n        \"samples\": [\n          \"\\u0648\\u0632\\u06cc\\u0631 \\u0627\\u0639\\u0638\\u0645 \\u0639\\u0645\\u0631\\u0627\\u0646 \\u062e\\u0627\\u0646 \\u06a9\\u06cc \\u0627\\u06cc\\u06a9 \\u067e\\u0631\\u0627\\u0646\\u06cc \\u062a\\u0635\\u0648\\u06cc\\u0631 \\u067e\\u06cc\\u067e\\u0644\\u0632 \\u067e\\u0627\\u0631\\u0679\\u06cc \\u06a9\\u06d2 \\u062d\\u0627\\u0645\\u06cc\\u0648\\u06ba \\u06a9\\u06cc \\u062c\\u0627\\u0646\\u0628 \\u0633\\u06d2 \\u067e\\u06be\\u06cc\\u0644\\u0627\\u0626\\u06cc \\u062c\\u0627 \\u0631\\u06c1\\u06cc \\u06c1\\u06d2 \\u062c\\u0633 \\u0645\\u06cc\\u06ba \\u0648\\u06c1 \\u0645\\u0646\\u0641\\u06cc \\u067e\\u0631\\u0648\\u067e\\u06cc\\u06af\\u0646\\u0688\\u0627 \\u06a9\\u0631 \\u0631\\u06c1\\u06d2 \\u06c1\\u06cc\\u06ba\\u06d4 \\u062f\\u0639\\u0648\\u06cc\\u0670 \\u06a9\\u06cc\\u0627 \\u062c\\u0627 \\u0631\\u06c1\\u0627 \\u06c1\\u06d2 \\u06a9\\u06c1 \\u0648\\u0632\\u06cc\\u0631 \\u0627\\u0639\\u0638\\u0645 \\u0639\\u0645\\u0631\\u0627\\u0646 \\u062e\\u0627\\u0646 \\u0646\\u06d2 \\u06a9\\u0648\\u0626\\u06cc \\u0645\\u0627\\u0633\\u06a9 \\u0646\\u06c1\\u06cc\\u06ba \\u067e\\u06c1\\u0646\\u0627 \\u06c1\\u0648\\u0627 \\u0644\\u06cc\\u06a9\\u0646 \\u062d\\u0642\\u06cc\\u0642\\u062a \\u0645\\u06cc\\u06ba \\u06cc\\u06c1 \\u067e\\u0631\\u0627\\u0646\\u06cc \\u062a\\u0635\\u0648\\u06cc\\u0631 \\u06c1\\u06d2\\u06d4\",\n          \"\\u0646\\u06c1\\u06cc\\u06ba\\u060c \\u067e\\u0631\\u06cc\\u0646\\u06a9\\u0627 \\u06af\\u0627\\u0646\\u062f\\u06be\\u06cc \\u0627\\u0633 \\u0648\\u0627\\u0626\\u0631\\u0644 \\u0648\\u06cc\\u0688\\u06cc\\u0648 \\u0645\\u06cc\\u06ba \\u0646\\u0634\\u06d2 \\u0645\\u06cc\\u06ba \\u0646\\u06c1\\u06cc\\u06ba \\u06c1\\u06cc\\u06ba\\u06d4\",\n          \"\\u0645\\u06cc\\u0688\\u06cc\\u0627 \\u06a9\\u0648 \\u0679\\u0631\\u0645\\u067e \\u06a9\\u06cc \\u06a9\\u06cc\\u0627 \\u062f\\u0644\\u0686\\u0633\\u067e\\u06cc \\u06c1\\u0648\\u0633\\u06a9\\u062a\\u06cc \\u06c1\\u06d2\\u06d4 \\u0686\\u06a9 \\u0679\\u0648\\u0688 \\u06a9\\u06cc \\u0645\\u06cc\\u0632\\u0628\\u0627\\u0646\\u06cc \\u06a9\\u0631\\u062a\\u06d2 \\u06c1\\u0648\\u0626\\u06d2 \\u062c\\u0648 \\u0644\\u0648\\u06a9\\u0627\\u0631\\u062a\\u0679 \\u062c\\u0648 \\u0648\\u0627\\u0626\\u0679 \\u06c1\\u0627\\u0624\\u0633 \\u06a9\\u06d2 \\u067e\\u0631\\u06cc\\u0633 \\u0633\\u06a9\\u0631\\u06cc\\u0679\\u0631\\u06cc \\u062a\\u06be\\u06d2\\u06d4 \\u0635\\u062f\\u0631 \\u0628\\u0644 \\u06a9\\u0644\\u0646\\u0679\\u0646 \\u0646\\u06d2 \\u0679\\u0631\\u0645\\u067e \\u06a9\\u06d2 \\u062c\\u06be\\u0648\\u0679 \\u0627\\u0648\\u0631 \\u063a\\u0644\\u0637 \\u0645\\u0639\\u0644\\u0648\\u0645\\u0627\\u062a \\u06a9\\u0648 \\u0635\\u062f\\u0631 \\u0631\\u0686\\u0631\\u0688 \\u0646\\u06a9\\u0633\\u0646 \\u06a9\\u06d2 \\u062f\\u0648\\u0631\\u0627\\u0646 \\u062f\\u06a9\\u06be\\u0627\\u0626\\u06d2 \\u062c\\u0627\\u0646\\u06d2 \\u0648\\u0627\\u0644\\u06d2 \\u0633\\u0644\\u0648\\u06a9 \\u0633\\u06d2 \\u062a\\u0634\\u0628\\u06cc\\u06c1 \\u062f\\u06cc\\u06d4 \\u0644\\u0641\\u0638\\u06cc \\u0637\\u0648\\u0631 \\u067e\\u0631 \\u0635\\u0631\\u0641 \\u0686\\u06cc\\u0632\\u06cc\\u06ba \\u0628\\u0646\\u0627\\u0646\\u06d2 \\u06a9\\u06d2 \\u0644\\u0626\\u06d2 \\u0679\\u0631\\u0645\\u067e \\u06a9\\u0648 \\u0627\\u067e\\u0646\\u06cc \\u0639\\u0627\\u062f\\u062a \\u06a9\\u0627 \\u0645\\u0637\\u0627\\u0644\\u0628\\u06c1 \\u06a9\\u0631\\u062a\\u06d2 \\u06c1\\u0648\\u0626\\u06d2 \\u060c \\u0644\\u0648\\u06a9 \\u06c1\\u0627\\u0631\\u0679 \\u0646\\u06d2 \\u06a9\\u06c1\\u0627: \\u06cc\\u06c1 \\u06a9\\u0633\\u06cc \\u062d\\u062f \\u062a\\u06a9 \\u0627\\u0648\\u0631\\u0648\\u0644\\u06cc\\u0626\\u0646 \\u06c1\\u06d2 \\u060c \\u062c\\u0648 \\u0622\\u067e \\u062c\\u0627\\u0646\\u062a\\u06d2 \\u06c1\\u0648 \\u060c \\u0622\\u067e \\u0646\\u06d2 \\u0645\\u0627\\u0636\\u06cc \\u06a9\\u06cc \\u0646\\u0626\\u06cc \\u0648\\u0636\\u0627\\u062d\\u062a \\u06a9\\u06cc \\u06c1\\u06d2 \\u060c \\u062c\\u0633 \\u06a9\\u0627 \\u0645\\u0637\\u0644\\u0628 \\u06c1\\u06d2 \\u06a9\\u06c1 \\u0622\\u067e \\u0645\\u0648\\u062c\\u0648\\u062f\\u06c1 \\u0627\\u0648\\u0631 \\u0645\\u0633\\u062a\\u0642\\u0628\\u0644 \\u06a9\\u06cc \\u0648\\u0636\\u0627\\u062d\\u062a \\u06a9\\u0631\\u0633\\u06a9\\u062a\\u06d2 \\u06c1\\u06cc\\u06ba\\u06d4 \\u0627\\u0648\\u0631 \\u06cc\\u06c1 \\u06a9\\u06c1 \\u062f\\u0648\\u0646\\u0648\\u06ba \\u0641\\u0631\\u06cc\\u0642\\u0648\\u06ba \\u06a9\\u06cc \\u06af\\u0631\\u0641\\u062a \\u0645\\u06cc\\u06ba \\u0622\\u0646\\u0627 \\u0628\\u06c1\\u062a \\u0645\\u0634\\u06a9\\u0644 \\u06c1\\u0648 \\u06af\\u0627\\u06d4\"\n        ],\n        \"semantic_type\": \"\",\n        \"description\": \"\"\n      }\n    },\n    {\n      \"column\": \"Label\",\n      \"properties\": {\n        \"dtype\": \"category\",\n        \"num_unique_values\": 5,\n        \"samples\": [\n          \"FAKE \",\n          \"TRUE \",\n          \"Label\"\n        ],\n        \"semantic_type\": \"\",\n        \"description\": \"\"\n      }\n    }\n  ]\n}"
            }
          },
          "metadata": {},
          "execution_count": 7
        }
      ]
    },
    {
      "cell_type": "markdown",
      "source": [
        "**Display basic info and the first few rows of the dataset**\n"
      ],
      "metadata": {
        "id": "IEukGbhDutO6"
      }
    },
    {
      "cell_type": "code",
      "source": [
        "dataset.head()"
      ],
      "metadata": {
        "colab": {
          "base_uri": "https://localhost:8080/",
          "height": 206
        },
        "id": "HTglGpd8KRzc",
        "outputId": "39163868-c20f-4099-9219-78e06f4a8b18"
      },
      "execution_count": null,
      "outputs": [
        {
          "output_type": "execute_result",
          "data": {
            "text/plain": [
              "  Sr. No.                                         News Items Label\n",
              "0       1  ٹی ٹی پی نے پنجاب حکومت کے ہیلی کاپٹر کے عملے ...  FAKE\n",
              "1       2          مارک زکربرگ سیاست میں آنے کا سوچ رہے ہیں۔  FAKE\n",
              "2       3     فریدہ جلال نے اپنی موت کی افواہوں پر تنقید کی۔  FAKE\n",
              "3       4  جعلی خبریں: پاپ اسٹار حدیقہ کیانی نے جعلی منشی...  FAKE\n",
              "4       5  صنم ماروی نے میڈیا پر گردش کرنے والی زیادتی او...  FAKE"
            ],
            "text/html": [
              "\n",
              "  <div id=\"df-88572e49-60d0-4590-b103-d10bd6f9e3e0\" class=\"colab-df-container\">\n",
              "    <div>\n",
              "<style scoped>\n",
              "    .dataframe tbody tr th:only-of-type {\n",
              "        vertical-align: middle;\n",
              "    }\n",
              "\n",
              "    .dataframe tbody tr th {\n",
              "        vertical-align: top;\n",
              "    }\n",
              "\n",
              "    .dataframe thead th {\n",
              "        text-align: right;\n",
              "    }\n",
              "</style>\n",
              "<table border=\"1\" class=\"dataframe\">\n",
              "  <thead>\n",
              "    <tr style=\"text-align: right;\">\n",
              "      <th></th>\n",
              "      <th>Sr. No.</th>\n",
              "      <th>News Items</th>\n",
              "      <th>Label</th>\n",
              "    </tr>\n",
              "  </thead>\n",
              "  <tbody>\n",
              "    <tr>\n",
              "      <th>0</th>\n",
              "      <td>1</td>\n",
              "      <td>ٹی ٹی پی نے پنجاب حکومت کے ہیلی کاپٹر کے عملے ...</td>\n",
              "      <td>FAKE</td>\n",
              "    </tr>\n",
              "    <tr>\n",
              "      <th>1</th>\n",
              "      <td>2</td>\n",
              "      <td>مارک زکربرگ سیاست میں آنے کا سوچ رہے ہیں۔</td>\n",
              "      <td>FAKE</td>\n",
              "    </tr>\n",
              "    <tr>\n",
              "      <th>2</th>\n",
              "      <td>3</td>\n",
              "      <td>فریدہ جلال نے اپنی موت کی افواہوں پر تنقید کی۔</td>\n",
              "      <td>FAKE</td>\n",
              "    </tr>\n",
              "    <tr>\n",
              "      <th>3</th>\n",
              "      <td>4</td>\n",
              "      <td>جعلی خبریں: پاپ اسٹار حدیقہ کیانی نے جعلی منشی...</td>\n",
              "      <td>FAKE</td>\n",
              "    </tr>\n",
              "    <tr>\n",
              "      <th>4</th>\n",
              "      <td>5</td>\n",
              "      <td>صنم ماروی نے میڈیا پر گردش کرنے والی زیادتی او...</td>\n",
              "      <td>FAKE</td>\n",
              "    </tr>\n",
              "  </tbody>\n",
              "</table>\n",
              "</div>\n",
              "    <div class=\"colab-df-buttons\">\n",
              "\n",
              "  <div class=\"colab-df-container\">\n",
              "    <button class=\"colab-df-convert\" onclick=\"convertToInteractive('df-88572e49-60d0-4590-b103-d10bd6f9e3e0')\"\n",
              "            title=\"Convert this dataframe to an interactive table.\"\n",
              "            style=\"display:none;\">\n",
              "\n",
              "  <svg xmlns=\"http://www.w3.org/2000/svg\" height=\"24px\" viewBox=\"0 -960 960 960\">\n",
              "    <path d=\"M120-120v-720h720v720H120Zm60-500h600v-160H180v160Zm220 220h160v-160H400v160Zm0 220h160v-160H400v160ZM180-400h160v-160H180v160Zm440 0h160v-160H620v160ZM180-180h160v-160H180v160Zm440 0h160v-160H620v160Z\"/>\n",
              "  </svg>\n",
              "    </button>\n",
              "\n",
              "  <style>\n",
              "    .colab-df-container {\n",
              "      display:flex;\n",
              "      gap: 12px;\n",
              "    }\n",
              "\n",
              "    .colab-df-convert {\n",
              "      background-color: #E8F0FE;\n",
              "      border: none;\n",
              "      border-radius: 50%;\n",
              "      cursor: pointer;\n",
              "      display: none;\n",
              "      fill: #1967D2;\n",
              "      height: 32px;\n",
              "      padding: 0 0 0 0;\n",
              "      width: 32px;\n",
              "    }\n",
              "\n",
              "    .colab-df-convert:hover {\n",
              "      background-color: #E2EBFA;\n",
              "      box-shadow: 0px 1px 2px rgba(60, 64, 67, 0.3), 0px 1px 3px 1px rgba(60, 64, 67, 0.15);\n",
              "      fill: #174EA6;\n",
              "    }\n",
              "\n",
              "    .colab-df-buttons div {\n",
              "      margin-bottom: 4px;\n",
              "    }\n",
              "\n",
              "    [theme=dark] .colab-df-convert {\n",
              "      background-color: #3B4455;\n",
              "      fill: #D2E3FC;\n",
              "    }\n",
              "\n",
              "    [theme=dark] .colab-df-convert:hover {\n",
              "      background-color: #434B5C;\n",
              "      box-shadow: 0px 1px 3px 1px rgba(0, 0, 0, 0.15);\n",
              "      filter: drop-shadow(0px 1px 2px rgba(0, 0, 0, 0.3));\n",
              "      fill: #FFFFFF;\n",
              "    }\n",
              "  </style>\n",
              "\n",
              "    <script>\n",
              "      const buttonEl =\n",
              "        document.querySelector('#df-88572e49-60d0-4590-b103-d10bd6f9e3e0 button.colab-df-convert');\n",
              "      buttonEl.style.display =\n",
              "        google.colab.kernel.accessAllowed ? 'block' : 'none';\n",
              "\n",
              "      async function convertToInteractive(key) {\n",
              "        const element = document.querySelector('#df-88572e49-60d0-4590-b103-d10bd6f9e3e0');\n",
              "        const dataTable =\n",
              "          await google.colab.kernel.invokeFunction('convertToInteractive',\n",
              "                                                    [key], {});\n",
              "        if (!dataTable) return;\n",
              "\n",
              "        const docLinkHtml = 'Like what you see? Visit the ' +\n",
              "          '<a target=\"_blank\" href=https://colab.research.google.com/notebooks/data_table.ipynb>data table notebook</a>'\n",
              "          + ' to learn more about interactive tables.';\n",
              "        element.innerHTML = '';\n",
              "        dataTable['output_type'] = 'display_data';\n",
              "        await google.colab.output.renderOutput(dataTable, element);\n",
              "        const docLink = document.createElement('div');\n",
              "        docLink.innerHTML = docLinkHtml;\n",
              "        element.appendChild(docLink);\n",
              "      }\n",
              "    </script>\n",
              "  </div>\n",
              "\n",
              "\n",
              "<div id=\"df-fc98b5ab-4984-4152-8ac2-1bc087c89a76\">\n",
              "  <button class=\"colab-df-quickchart\" onclick=\"quickchart('df-fc98b5ab-4984-4152-8ac2-1bc087c89a76')\"\n",
              "            title=\"Suggest charts\"\n",
              "            style=\"display:none;\">\n",
              "\n",
              "<svg xmlns=\"http://www.w3.org/2000/svg\" height=\"24px\"viewBox=\"0 0 24 24\"\n",
              "     width=\"24px\">\n",
              "    <g>\n",
              "        <path d=\"M19 3H5c-1.1 0-2 .9-2 2v14c0 1.1.9 2 2 2h14c1.1 0 2-.9 2-2V5c0-1.1-.9-2-2-2zM9 17H7v-7h2v7zm4 0h-2V7h2v10zm4 0h-2v-4h2v4z\"/>\n",
              "    </g>\n",
              "</svg>\n",
              "  </button>\n",
              "\n",
              "<style>\n",
              "  .colab-df-quickchart {\n",
              "      --bg-color: #E8F0FE;\n",
              "      --fill-color: #1967D2;\n",
              "      --hover-bg-color: #E2EBFA;\n",
              "      --hover-fill-color: #174EA6;\n",
              "      --disabled-fill-color: #AAA;\n",
              "      --disabled-bg-color: #DDD;\n",
              "  }\n",
              "\n",
              "  [theme=dark] .colab-df-quickchart {\n",
              "      --bg-color: #3B4455;\n",
              "      --fill-color: #D2E3FC;\n",
              "      --hover-bg-color: #434B5C;\n",
              "      --hover-fill-color: #FFFFFF;\n",
              "      --disabled-bg-color: #3B4455;\n",
              "      --disabled-fill-color: #666;\n",
              "  }\n",
              "\n",
              "  .colab-df-quickchart {\n",
              "    background-color: var(--bg-color);\n",
              "    border: none;\n",
              "    border-radius: 50%;\n",
              "    cursor: pointer;\n",
              "    display: none;\n",
              "    fill: var(--fill-color);\n",
              "    height: 32px;\n",
              "    padding: 0;\n",
              "    width: 32px;\n",
              "  }\n",
              "\n",
              "  .colab-df-quickchart:hover {\n",
              "    background-color: var(--hover-bg-color);\n",
              "    box-shadow: 0 1px 2px rgba(60, 64, 67, 0.3), 0 1px 3px 1px rgba(60, 64, 67, 0.15);\n",
              "    fill: var(--button-hover-fill-color);\n",
              "  }\n",
              "\n",
              "  .colab-df-quickchart-complete:disabled,\n",
              "  .colab-df-quickchart-complete:disabled:hover {\n",
              "    background-color: var(--disabled-bg-color);\n",
              "    fill: var(--disabled-fill-color);\n",
              "    box-shadow: none;\n",
              "  }\n",
              "\n",
              "  .colab-df-spinner {\n",
              "    border: 2px solid var(--fill-color);\n",
              "    border-color: transparent;\n",
              "    border-bottom-color: var(--fill-color);\n",
              "    animation:\n",
              "      spin 1s steps(1) infinite;\n",
              "  }\n",
              "\n",
              "  @keyframes spin {\n",
              "    0% {\n",
              "      border-color: transparent;\n",
              "      border-bottom-color: var(--fill-color);\n",
              "      border-left-color: var(--fill-color);\n",
              "    }\n",
              "    20% {\n",
              "      border-color: transparent;\n",
              "      border-left-color: var(--fill-color);\n",
              "      border-top-color: var(--fill-color);\n",
              "    }\n",
              "    30% {\n",
              "      border-color: transparent;\n",
              "      border-left-color: var(--fill-color);\n",
              "      border-top-color: var(--fill-color);\n",
              "      border-right-color: var(--fill-color);\n",
              "    }\n",
              "    40% {\n",
              "      border-color: transparent;\n",
              "      border-right-color: var(--fill-color);\n",
              "      border-top-color: var(--fill-color);\n",
              "    }\n",
              "    60% {\n",
              "      border-color: transparent;\n",
              "      border-right-color: var(--fill-color);\n",
              "    }\n",
              "    80% {\n",
              "      border-color: transparent;\n",
              "      border-right-color: var(--fill-color);\n",
              "      border-bottom-color: var(--fill-color);\n",
              "    }\n",
              "    90% {\n",
              "      border-color: transparent;\n",
              "      border-bottom-color: var(--fill-color);\n",
              "    }\n",
              "  }\n",
              "</style>\n",
              "\n",
              "  <script>\n",
              "    async function quickchart(key) {\n",
              "      const quickchartButtonEl =\n",
              "        document.querySelector('#' + key + ' button');\n",
              "      quickchartButtonEl.disabled = true;  // To prevent multiple clicks.\n",
              "      quickchartButtonEl.classList.add('colab-df-spinner');\n",
              "      try {\n",
              "        const charts = await google.colab.kernel.invokeFunction(\n",
              "            'suggestCharts', [key], {});\n",
              "      } catch (error) {\n",
              "        console.error('Error during call to suggestCharts:', error);\n",
              "      }\n",
              "      quickchartButtonEl.classList.remove('colab-df-spinner');\n",
              "      quickchartButtonEl.classList.add('colab-df-quickchart-complete');\n",
              "    }\n",
              "    (() => {\n",
              "      let quickchartButtonEl =\n",
              "        document.querySelector('#df-fc98b5ab-4984-4152-8ac2-1bc087c89a76 button');\n",
              "      quickchartButtonEl.style.display =\n",
              "        google.colab.kernel.accessAllowed ? 'block' : 'none';\n",
              "    })();\n",
              "  </script>\n",
              "</div>\n",
              "\n",
              "    </div>\n",
              "  </div>\n"
            ],
            "application/vnd.google.colaboratory.intrinsic+json": {
              "type": "dataframe",
              "variable_name": "dataset",
              "summary": "{\n  \"name\": \"dataset\",\n  \"rows\": 10106,\n  \"fields\": [\n    {\n      \"column\": \"Sr. No.\",\n      \"properties\": {\n        \"dtype\": \"string\",\n        \"num_unique_values\": 5054,\n        \"samples\": [\n          \"1130\",\n          \"2317\",\n          \"722\"\n        ],\n        \"semantic_type\": \"\",\n        \"description\": \"\"\n      }\n    },\n    {\n      \"column\": \"News Items\",\n      \"properties\": {\n        \"dtype\": \"string\",\n        \"num_unique_values\": 9236,\n        \"samples\": [\n          \"\\u0648\\u0632\\u06cc\\u0631 \\u0627\\u0639\\u0638\\u0645 \\u0639\\u0645\\u0631\\u0627\\u0646 \\u062e\\u0627\\u0646 \\u06a9\\u06cc \\u0627\\u06cc\\u06a9 \\u067e\\u0631\\u0627\\u0646\\u06cc \\u062a\\u0635\\u0648\\u06cc\\u0631 \\u067e\\u06cc\\u067e\\u0644\\u0632 \\u067e\\u0627\\u0631\\u0679\\u06cc \\u06a9\\u06d2 \\u062d\\u0627\\u0645\\u06cc\\u0648\\u06ba \\u06a9\\u06cc \\u062c\\u0627\\u0646\\u0628 \\u0633\\u06d2 \\u067e\\u06be\\u06cc\\u0644\\u0627\\u0626\\u06cc \\u062c\\u0627 \\u0631\\u06c1\\u06cc \\u06c1\\u06d2 \\u062c\\u0633 \\u0645\\u06cc\\u06ba \\u0648\\u06c1 \\u0645\\u0646\\u0641\\u06cc \\u067e\\u0631\\u0648\\u067e\\u06cc\\u06af\\u0646\\u0688\\u0627 \\u06a9\\u0631 \\u0631\\u06c1\\u06d2 \\u06c1\\u06cc\\u06ba\\u06d4 \\u062f\\u0639\\u0648\\u06cc\\u0670 \\u06a9\\u06cc\\u0627 \\u062c\\u0627 \\u0631\\u06c1\\u0627 \\u06c1\\u06d2 \\u06a9\\u06c1 \\u0648\\u0632\\u06cc\\u0631 \\u0627\\u0639\\u0638\\u0645 \\u0639\\u0645\\u0631\\u0627\\u0646 \\u062e\\u0627\\u0646 \\u0646\\u06d2 \\u06a9\\u0648\\u0626\\u06cc \\u0645\\u0627\\u0633\\u06a9 \\u0646\\u06c1\\u06cc\\u06ba \\u067e\\u06c1\\u0646\\u0627 \\u06c1\\u0648\\u0627 \\u0644\\u06cc\\u06a9\\u0646 \\u062d\\u0642\\u06cc\\u0642\\u062a \\u0645\\u06cc\\u06ba \\u06cc\\u06c1 \\u067e\\u0631\\u0627\\u0646\\u06cc \\u062a\\u0635\\u0648\\u06cc\\u0631 \\u06c1\\u06d2\\u06d4\",\n          \"\\u0646\\u06c1\\u06cc\\u06ba\\u060c \\u067e\\u0631\\u06cc\\u0646\\u06a9\\u0627 \\u06af\\u0627\\u0646\\u062f\\u06be\\u06cc \\u0627\\u0633 \\u0648\\u0627\\u0626\\u0631\\u0644 \\u0648\\u06cc\\u0688\\u06cc\\u0648 \\u0645\\u06cc\\u06ba \\u0646\\u0634\\u06d2 \\u0645\\u06cc\\u06ba \\u0646\\u06c1\\u06cc\\u06ba \\u06c1\\u06cc\\u06ba\\u06d4\",\n          \"\\u0645\\u06cc\\u0688\\u06cc\\u0627 \\u06a9\\u0648 \\u0679\\u0631\\u0645\\u067e \\u06a9\\u06cc \\u06a9\\u06cc\\u0627 \\u062f\\u0644\\u0686\\u0633\\u067e\\u06cc \\u06c1\\u0648\\u0633\\u06a9\\u062a\\u06cc \\u06c1\\u06d2\\u06d4 \\u0686\\u06a9 \\u0679\\u0648\\u0688 \\u06a9\\u06cc \\u0645\\u06cc\\u0632\\u0628\\u0627\\u0646\\u06cc \\u06a9\\u0631\\u062a\\u06d2 \\u06c1\\u0648\\u0626\\u06d2 \\u062c\\u0648 \\u0644\\u0648\\u06a9\\u0627\\u0631\\u062a\\u0679 \\u062c\\u0648 \\u0648\\u0627\\u0626\\u0679 \\u06c1\\u0627\\u0624\\u0633 \\u06a9\\u06d2 \\u067e\\u0631\\u06cc\\u0633 \\u0633\\u06a9\\u0631\\u06cc\\u0679\\u0631\\u06cc \\u062a\\u06be\\u06d2\\u06d4 \\u0635\\u062f\\u0631 \\u0628\\u0644 \\u06a9\\u0644\\u0646\\u0679\\u0646 \\u0646\\u06d2 \\u0679\\u0631\\u0645\\u067e \\u06a9\\u06d2 \\u062c\\u06be\\u0648\\u0679 \\u0627\\u0648\\u0631 \\u063a\\u0644\\u0637 \\u0645\\u0639\\u0644\\u0648\\u0645\\u0627\\u062a \\u06a9\\u0648 \\u0635\\u062f\\u0631 \\u0631\\u0686\\u0631\\u0688 \\u0646\\u06a9\\u0633\\u0646 \\u06a9\\u06d2 \\u062f\\u0648\\u0631\\u0627\\u0646 \\u062f\\u06a9\\u06be\\u0627\\u0626\\u06d2 \\u062c\\u0627\\u0646\\u06d2 \\u0648\\u0627\\u0644\\u06d2 \\u0633\\u0644\\u0648\\u06a9 \\u0633\\u06d2 \\u062a\\u0634\\u0628\\u06cc\\u06c1 \\u062f\\u06cc\\u06d4 \\u0644\\u0641\\u0638\\u06cc \\u0637\\u0648\\u0631 \\u067e\\u0631 \\u0635\\u0631\\u0641 \\u0686\\u06cc\\u0632\\u06cc\\u06ba \\u0628\\u0646\\u0627\\u0646\\u06d2 \\u06a9\\u06d2 \\u0644\\u0626\\u06d2 \\u0679\\u0631\\u0645\\u067e \\u06a9\\u0648 \\u0627\\u067e\\u0646\\u06cc \\u0639\\u0627\\u062f\\u062a \\u06a9\\u0627 \\u0645\\u0637\\u0627\\u0644\\u0628\\u06c1 \\u06a9\\u0631\\u062a\\u06d2 \\u06c1\\u0648\\u0626\\u06d2 \\u060c \\u0644\\u0648\\u06a9 \\u06c1\\u0627\\u0631\\u0679 \\u0646\\u06d2 \\u06a9\\u06c1\\u0627: \\u06cc\\u06c1 \\u06a9\\u0633\\u06cc \\u062d\\u062f \\u062a\\u06a9 \\u0627\\u0648\\u0631\\u0648\\u0644\\u06cc\\u0626\\u0646 \\u06c1\\u06d2 \\u060c \\u062c\\u0648 \\u0622\\u067e \\u062c\\u0627\\u0646\\u062a\\u06d2 \\u06c1\\u0648 \\u060c \\u0622\\u067e \\u0646\\u06d2 \\u0645\\u0627\\u0636\\u06cc \\u06a9\\u06cc \\u0646\\u0626\\u06cc \\u0648\\u0636\\u0627\\u062d\\u062a \\u06a9\\u06cc \\u06c1\\u06d2 \\u060c \\u062c\\u0633 \\u06a9\\u0627 \\u0645\\u0637\\u0644\\u0628 \\u06c1\\u06d2 \\u06a9\\u06c1 \\u0622\\u067e \\u0645\\u0648\\u062c\\u0648\\u062f\\u06c1 \\u0627\\u0648\\u0631 \\u0645\\u0633\\u062a\\u0642\\u0628\\u0644 \\u06a9\\u06cc \\u0648\\u0636\\u0627\\u062d\\u062a \\u06a9\\u0631\\u0633\\u06a9\\u062a\\u06d2 \\u06c1\\u06cc\\u06ba\\u06d4 \\u0627\\u0648\\u0631 \\u06cc\\u06c1 \\u06a9\\u06c1 \\u062f\\u0648\\u0646\\u0648\\u06ba \\u0641\\u0631\\u06cc\\u0642\\u0648\\u06ba \\u06a9\\u06cc \\u06af\\u0631\\u0641\\u062a \\u0645\\u06cc\\u06ba \\u0622\\u0646\\u0627 \\u0628\\u06c1\\u062a \\u0645\\u0634\\u06a9\\u0644 \\u06c1\\u0648 \\u06af\\u0627\\u06d4\"\n        ],\n        \"semantic_type\": \"\",\n        \"description\": \"\"\n      }\n    },\n    {\n      \"column\": \"Label\",\n      \"properties\": {\n        \"dtype\": \"category\",\n        \"num_unique_values\": 5,\n        \"samples\": [\n          \"FAKE \",\n          \"TRUE \",\n          \"Label\"\n        ],\n        \"semantic_type\": \"\",\n        \"description\": \"\"\n      }\n    }\n  ]\n}"
            }
          },
          "metadata": {},
          "execution_count": 9
        }
      ]
    },
    {
      "cell_type": "code",
      "source": [
        "dataset.shape"
      ],
      "metadata": {
        "colab": {
          "base_uri": "https://localhost:8080/"
        },
        "id": "7W_b6cyjwdIa",
        "outputId": "08839305-aea5-4a83-f873-8f3e09e7f85e"
      },
      "execution_count": null,
      "outputs": [
        {
          "output_type": "execute_result",
          "data": {
            "text/plain": [
              "(10106, 3)"
            ]
          },
          "metadata": {},
          "execution_count": 11
        }
      ]
    },
    {
      "cell_type": "code",
      "source": [
        "dataset.describe()"
      ],
      "metadata": {
        "colab": {
          "base_uri": "https://localhost:8080/",
          "height": 175
        },
        "id": "YSWRv08qwlE1",
        "outputId": "f39fe303-099e-407e-86e9-cfc95d428193"
      },
      "execution_count": null,
      "outputs": [
        {
          "output_type": "execute_result",
          "data": {
            "text/plain": [
              "       Sr. No.                                         News Items  Label\n",
              "count    10084                                              10084  10084\n",
              "unique    5054                                               9236      5\n",
              "top          1  پاکستان کے سابق وزیر اعظم عمران خان کی حمایت ک...   FAKE\n",
              "freq         2                                                  4   5039"
            ],
            "text/html": [
              "\n",
              "  <div id=\"df-318cc922-b62e-469b-b05a-33923ef67e01\" class=\"colab-df-container\">\n",
              "    <div>\n",
              "<style scoped>\n",
              "    .dataframe tbody tr th:only-of-type {\n",
              "        vertical-align: middle;\n",
              "    }\n",
              "\n",
              "    .dataframe tbody tr th {\n",
              "        vertical-align: top;\n",
              "    }\n",
              "\n",
              "    .dataframe thead th {\n",
              "        text-align: right;\n",
              "    }\n",
              "</style>\n",
              "<table border=\"1\" class=\"dataframe\">\n",
              "  <thead>\n",
              "    <tr style=\"text-align: right;\">\n",
              "      <th></th>\n",
              "      <th>Sr. No.</th>\n",
              "      <th>News Items</th>\n",
              "      <th>Label</th>\n",
              "    </tr>\n",
              "  </thead>\n",
              "  <tbody>\n",
              "    <tr>\n",
              "      <th>count</th>\n",
              "      <td>10084</td>\n",
              "      <td>10084</td>\n",
              "      <td>10084</td>\n",
              "    </tr>\n",
              "    <tr>\n",
              "      <th>unique</th>\n",
              "      <td>5054</td>\n",
              "      <td>9236</td>\n",
              "      <td>5</td>\n",
              "    </tr>\n",
              "    <tr>\n",
              "      <th>top</th>\n",
              "      <td>1</td>\n",
              "      <td>پاکستان کے سابق وزیر اعظم عمران خان کی حمایت ک...</td>\n",
              "      <td>FAKE</td>\n",
              "    </tr>\n",
              "    <tr>\n",
              "      <th>freq</th>\n",
              "      <td>2</td>\n",
              "      <td>4</td>\n",
              "      <td>5039</td>\n",
              "    </tr>\n",
              "  </tbody>\n",
              "</table>\n",
              "</div>\n",
              "    <div class=\"colab-df-buttons\">\n",
              "\n",
              "  <div class=\"colab-df-container\">\n",
              "    <button class=\"colab-df-convert\" onclick=\"convertToInteractive('df-318cc922-b62e-469b-b05a-33923ef67e01')\"\n",
              "            title=\"Convert this dataframe to an interactive table.\"\n",
              "            style=\"display:none;\">\n",
              "\n",
              "  <svg xmlns=\"http://www.w3.org/2000/svg\" height=\"24px\" viewBox=\"0 -960 960 960\">\n",
              "    <path d=\"M120-120v-720h720v720H120Zm60-500h600v-160H180v160Zm220 220h160v-160H400v160Zm0 220h160v-160H400v160ZM180-400h160v-160H180v160Zm440 0h160v-160H620v160ZM180-180h160v-160H180v160Zm440 0h160v-160H620v160Z\"/>\n",
              "  </svg>\n",
              "    </button>\n",
              "\n",
              "  <style>\n",
              "    .colab-df-container {\n",
              "      display:flex;\n",
              "      gap: 12px;\n",
              "    }\n",
              "\n",
              "    .colab-df-convert {\n",
              "      background-color: #E8F0FE;\n",
              "      border: none;\n",
              "      border-radius: 50%;\n",
              "      cursor: pointer;\n",
              "      display: none;\n",
              "      fill: #1967D2;\n",
              "      height: 32px;\n",
              "      padding: 0 0 0 0;\n",
              "      width: 32px;\n",
              "    }\n",
              "\n",
              "    .colab-df-convert:hover {\n",
              "      background-color: #E2EBFA;\n",
              "      box-shadow: 0px 1px 2px rgba(60, 64, 67, 0.3), 0px 1px 3px 1px rgba(60, 64, 67, 0.15);\n",
              "      fill: #174EA6;\n",
              "    }\n",
              "\n",
              "    .colab-df-buttons div {\n",
              "      margin-bottom: 4px;\n",
              "    }\n",
              "\n",
              "    [theme=dark] .colab-df-convert {\n",
              "      background-color: #3B4455;\n",
              "      fill: #D2E3FC;\n",
              "    }\n",
              "\n",
              "    [theme=dark] .colab-df-convert:hover {\n",
              "      background-color: #434B5C;\n",
              "      box-shadow: 0px 1px 3px 1px rgba(0, 0, 0, 0.15);\n",
              "      filter: drop-shadow(0px 1px 2px rgba(0, 0, 0, 0.3));\n",
              "      fill: #FFFFFF;\n",
              "    }\n",
              "  </style>\n",
              "\n",
              "    <script>\n",
              "      const buttonEl =\n",
              "        document.querySelector('#df-318cc922-b62e-469b-b05a-33923ef67e01 button.colab-df-convert');\n",
              "      buttonEl.style.display =\n",
              "        google.colab.kernel.accessAllowed ? 'block' : 'none';\n",
              "\n",
              "      async function convertToInteractive(key) {\n",
              "        const element = document.querySelector('#df-318cc922-b62e-469b-b05a-33923ef67e01');\n",
              "        const dataTable =\n",
              "          await google.colab.kernel.invokeFunction('convertToInteractive',\n",
              "                                                    [key], {});\n",
              "        if (!dataTable) return;\n",
              "\n",
              "        const docLinkHtml = 'Like what you see? Visit the ' +\n",
              "          '<a target=\"_blank\" href=https://colab.research.google.com/notebooks/data_table.ipynb>data table notebook</a>'\n",
              "          + ' to learn more about interactive tables.';\n",
              "        element.innerHTML = '';\n",
              "        dataTable['output_type'] = 'display_data';\n",
              "        await google.colab.output.renderOutput(dataTable, element);\n",
              "        const docLink = document.createElement('div');\n",
              "        docLink.innerHTML = docLinkHtml;\n",
              "        element.appendChild(docLink);\n",
              "      }\n",
              "    </script>\n",
              "  </div>\n",
              "\n",
              "\n",
              "<div id=\"df-7bf29785-515c-46ab-976f-61e2f464c69d\">\n",
              "  <button class=\"colab-df-quickchart\" onclick=\"quickchart('df-7bf29785-515c-46ab-976f-61e2f464c69d')\"\n",
              "            title=\"Suggest charts\"\n",
              "            style=\"display:none;\">\n",
              "\n",
              "<svg xmlns=\"http://www.w3.org/2000/svg\" height=\"24px\"viewBox=\"0 0 24 24\"\n",
              "     width=\"24px\">\n",
              "    <g>\n",
              "        <path d=\"M19 3H5c-1.1 0-2 .9-2 2v14c0 1.1.9 2 2 2h14c1.1 0 2-.9 2-2V5c0-1.1-.9-2-2-2zM9 17H7v-7h2v7zm4 0h-2V7h2v10zm4 0h-2v-4h2v4z\"/>\n",
              "    </g>\n",
              "</svg>\n",
              "  </button>\n",
              "\n",
              "<style>\n",
              "  .colab-df-quickchart {\n",
              "      --bg-color: #E8F0FE;\n",
              "      --fill-color: #1967D2;\n",
              "      --hover-bg-color: #E2EBFA;\n",
              "      --hover-fill-color: #174EA6;\n",
              "      --disabled-fill-color: #AAA;\n",
              "      --disabled-bg-color: #DDD;\n",
              "  }\n",
              "\n",
              "  [theme=dark] .colab-df-quickchart {\n",
              "      --bg-color: #3B4455;\n",
              "      --fill-color: #D2E3FC;\n",
              "      --hover-bg-color: #434B5C;\n",
              "      --hover-fill-color: #FFFFFF;\n",
              "      --disabled-bg-color: #3B4455;\n",
              "      --disabled-fill-color: #666;\n",
              "  }\n",
              "\n",
              "  .colab-df-quickchart {\n",
              "    background-color: var(--bg-color);\n",
              "    border: none;\n",
              "    border-radius: 50%;\n",
              "    cursor: pointer;\n",
              "    display: none;\n",
              "    fill: var(--fill-color);\n",
              "    height: 32px;\n",
              "    padding: 0;\n",
              "    width: 32px;\n",
              "  }\n",
              "\n",
              "  .colab-df-quickchart:hover {\n",
              "    background-color: var(--hover-bg-color);\n",
              "    box-shadow: 0 1px 2px rgba(60, 64, 67, 0.3), 0 1px 3px 1px rgba(60, 64, 67, 0.15);\n",
              "    fill: var(--button-hover-fill-color);\n",
              "  }\n",
              "\n",
              "  .colab-df-quickchart-complete:disabled,\n",
              "  .colab-df-quickchart-complete:disabled:hover {\n",
              "    background-color: var(--disabled-bg-color);\n",
              "    fill: var(--disabled-fill-color);\n",
              "    box-shadow: none;\n",
              "  }\n",
              "\n",
              "  .colab-df-spinner {\n",
              "    border: 2px solid var(--fill-color);\n",
              "    border-color: transparent;\n",
              "    border-bottom-color: var(--fill-color);\n",
              "    animation:\n",
              "      spin 1s steps(1) infinite;\n",
              "  }\n",
              "\n",
              "  @keyframes spin {\n",
              "    0% {\n",
              "      border-color: transparent;\n",
              "      border-bottom-color: var(--fill-color);\n",
              "      border-left-color: var(--fill-color);\n",
              "    }\n",
              "    20% {\n",
              "      border-color: transparent;\n",
              "      border-left-color: var(--fill-color);\n",
              "      border-top-color: var(--fill-color);\n",
              "    }\n",
              "    30% {\n",
              "      border-color: transparent;\n",
              "      border-left-color: var(--fill-color);\n",
              "      border-top-color: var(--fill-color);\n",
              "      border-right-color: var(--fill-color);\n",
              "    }\n",
              "    40% {\n",
              "      border-color: transparent;\n",
              "      border-right-color: var(--fill-color);\n",
              "      border-top-color: var(--fill-color);\n",
              "    }\n",
              "    60% {\n",
              "      border-color: transparent;\n",
              "      border-right-color: var(--fill-color);\n",
              "    }\n",
              "    80% {\n",
              "      border-color: transparent;\n",
              "      border-right-color: var(--fill-color);\n",
              "      border-bottom-color: var(--fill-color);\n",
              "    }\n",
              "    90% {\n",
              "      border-color: transparent;\n",
              "      border-bottom-color: var(--fill-color);\n",
              "    }\n",
              "  }\n",
              "</style>\n",
              "\n",
              "  <script>\n",
              "    async function quickchart(key) {\n",
              "      const quickchartButtonEl =\n",
              "        document.querySelector('#' + key + ' button');\n",
              "      quickchartButtonEl.disabled = true;  // To prevent multiple clicks.\n",
              "      quickchartButtonEl.classList.add('colab-df-spinner');\n",
              "      try {\n",
              "        const charts = await google.colab.kernel.invokeFunction(\n",
              "            'suggestCharts', [key], {});\n",
              "      } catch (error) {\n",
              "        console.error('Error during call to suggestCharts:', error);\n",
              "      }\n",
              "      quickchartButtonEl.classList.remove('colab-df-spinner');\n",
              "      quickchartButtonEl.classList.add('colab-df-quickchart-complete');\n",
              "    }\n",
              "    (() => {\n",
              "      let quickchartButtonEl =\n",
              "        document.querySelector('#df-7bf29785-515c-46ab-976f-61e2f464c69d button');\n",
              "      quickchartButtonEl.style.display =\n",
              "        google.colab.kernel.accessAllowed ? 'block' : 'none';\n",
              "    })();\n",
              "  </script>\n",
              "</div>\n",
              "\n",
              "    </div>\n",
              "  </div>\n"
            ],
            "application/vnd.google.colaboratory.intrinsic+json": {
              "type": "dataframe",
              "summary": "{\n  \"name\": \"dataset\",\n  \"rows\": 4,\n  \"fields\": [\n    {\n      \"column\": \"Sr. No.\",\n      \"properties\": {\n        \"dtype\": \"string\",\n        \"num_unique_values\": 4,\n        \"samples\": [\n          5054,\n          \"2\",\n          \"10084\"\n        ],\n        \"semantic_type\": \"\",\n        \"description\": \"\"\n      }\n    },\n    {\n      \"column\": \"News Items\",\n      \"properties\": {\n        \"dtype\": \"string\",\n        \"num_unique_values\": 4,\n        \"samples\": [\n          9236,\n          \"4\",\n          \"10084\"\n        ],\n        \"semantic_type\": \"\",\n        \"description\": \"\"\n      }\n    },\n    {\n      \"column\": \"Label\",\n      \"properties\": {\n        \"dtype\": \"string\",\n        \"num_unique_values\": 4,\n        \"samples\": [\n          5,\n          \"5039\",\n          \"10084\"\n        ],\n        \"semantic_type\": \"\",\n        \"description\": \"\"\n      }\n    }\n  ]\n}"
            }
          },
          "metadata": {},
          "execution_count": 12
        }
      ]
    },
    {
      "cell_type": "code",
      "source": [
        "dataset.info()"
      ],
      "metadata": {
        "colab": {
          "base_uri": "https://localhost:8080/"
        },
        "id": "aE6ua3Atw_6_",
        "outputId": "647837cb-42a7-432d-8db9-5be4e3a1e8a0"
      },
      "execution_count": null,
      "outputs": [
        {
          "output_type": "stream",
          "name": "stdout",
          "text": [
            "<class 'pandas.core.frame.DataFrame'>\n",
            "RangeIndex: 10106 entries, 0 to 10105\n",
            "Data columns (total 3 columns):\n",
            " #   Column      Non-Null Count  Dtype \n",
            "---  ------      --------------  ----- \n",
            " 0   Sr. No.     10084 non-null  object\n",
            " 1   News Items  10084 non-null  object\n",
            " 2   Label       10084 non-null  object\n",
            "dtypes: object(3)\n",
            "memory usage: 237.0+ KB\n"
          ]
        }
      ]
    },
    {
      "cell_type": "code",
      "source": [
        "dataset.isnull().sum()"
      ],
      "metadata": {
        "colab": {
          "base_uri": "https://localhost:8080/",
          "height": 178
        },
        "id": "P8MdF8TpxWiV",
        "outputId": "2d2beee6-624a-45d5-b6a3-c805b077bc17"
      },
      "execution_count": null,
      "outputs": [
        {
          "output_type": "execute_result",
          "data": {
            "text/plain": [
              "Sr. No.       22\n",
              "News Items    22\n",
              "Label         22\n",
              "dtype: int64"
            ],
            "text/html": [
              "<div>\n",
              "<style scoped>\n",
              "    .dataframe tbody tr th:only-of-type {\n",
              "        vertical-align: middle;\n",
              "    }\n",
              "\n",
              "    .dataframe tbody tr th {\n",
              "        vertical-align: top;\n",
              "    }\n",
              "\n",
              "    .dataframe thead th {\n",
              "        text-align: right;\n",
              "    }\n",
              "</style>\n",
              "<table border=\"1\" class=\"dataframe\">\n",
              "  <thead>\n",
              "    <tr style=\"text-align: right;\">\n",
              "      <th></th>\n",
              "      <th>0</th>\n",
              "    </tr>\n",
              "  </thead>\n",
              "  <tbody>\n",
              "    <tr>\n",
              "      <th>Sr. No.</th>\n",
              "      <td>22</td>\n",
              "    </tr>\n",
              "    <tr>\n",
              "      <th>News Items</th>\n",
              "      <td>22</td>\n",
              "    </tr>\n",
              "    <tr>\n",
              "      <th>Label</th>\n",
              "      <td>22</td>\n",
              "    </tr>\n",
              "  </tbody>\n",
              "</table>\n",
              "</div><br><label><b>dtype:</b> int64</label>"
            ]
          },
          "metadata": {},
          "execution_count": 18
        }
      ]
    },
    {
      "cell_type": "markdown",
      "source": [
        "**Drop unnecessary columns and handle missing values**"
      ],
      "metadata": {
        "id": "dsZZUwD5u_Rd"
      }
    },
    {
      "cell_type": "code",
      "source": [
        "\n",
        "data = dataset.drop(columns=['Sr. No.'])  # Drop 'Sr. No.' as it's not needed\n",
        "data = dataset.dropna()  # Drop rows with missing values\n"
      ],
      "metadata": {
        "id": "5gQmBFFqKTQ3"
      },
      "execution_count": null,
      "outputs": []
    },
    {
      "cell_type": "markdown",
      "source": [
        "**Remove extra spaces, newlines, and carriage returns**"
      ],
      "metadata": {
        "id": "QMI6zSuxvOBM"
      }
    },
    {
      "cell_type": "code",
      "source": [
        "def preprocess_text(text):\n",
        "    text = text.replace('\\n', ' ').replace('\\r', ' ').strip()\n",
        "    return text"
      ],
      "metadata": {
        "id": "4BJRYL67MYZp"
      },
      "execution_count": null,
      "outputs": []
    },
    {
      "cell_type": "markdown",
      "source": [
        "**Clean labels by consolidating into 'FAKE' and 'REAL'**"
      ],
      "metadata": {
        "id": "0RsMuo6Hx4cB"
      }
    },
    {
      "cell_type": "code",
      "source": [
        "data['Label'] = data['Label'].str.strip().replace({'TRUE': 'REAL', 'FAKE': 'FAKE'})\n",
        "data = data[data['Label'].isin(['FAKE', 'REAL'])]  # Keep only valid labels\n"
      ],
      "metadata": {
        "id": "CIb3PKfNMYpp"
      },
      "execution_count": 21,
      "outputs": []
    },
    {
      "cell_type": "code",
      "source": [
        "# Preprocess text data\n",
        "data['News Items'] = data['News Items'].apply(preprocess_text)\n",
        "data['text_length'] = data['News Items'].str.len()\n"
      ],
      "metadata": {
        "id": "0fUofk2bMel3"
      },
      "execution_count": 22,
      "outputs": []
    },
    {
      "cell_type": "markdown",
      "source": [
        "## **EDA/VISULIZATION**"
      ],
      "metadata": {
        "id": "ZPVmJzPw7l-x"
      }
    },
    {
      "cell_type": "markdown",
      "source": [
        "**Visualize label distribution (BAR PLOT)**\n",
        "\n",
        "\n",
        "Which topics or subjects are more prone to fake news compared to real news?\n",
        "\n",
        "\n",
        "**Insight:** Topics like politics, sensational headlines, and trending social issues emerge as high-risk areas for fake news, as shown by analyzing the most common terms in the dataset.\n",
        "\n",
        "\n",
        "\n",
        "\n",
        "\n"
      ],
      "metadata": {
        "id": "TWS45t2B24dy"
      }
    },
    {
      "cell_type": "code",
      "source": [
        "\n",
        "label_distribution = data['Label'].value_counts()\n",
        "plt.figure(figsize=(8, 5))\n",
        "label_distribution.plot(kind='bar', color=['skyblue', 'orange'], rot=0)\n",
        "plt.title('Label Distribution (FAKE vs REAL)')\n",
        "plt.xlabel('Labels')\n",
        "plt.ylabel('Count')\n",
        "plt.show()\n"
      ],
      "metadata": {
        "colab": {
          "base_uri": "https://localhost:8080/",
          "height": 487
        },
        "id": "AyRzfpusMg1w",
        "outputId": "f3ab7604-8ce5-411d-8540-cb222f1c5795"
      },
      "execution_count": 23,
      "outputs": [
        {
          "output_type": "display_data",
          "data": {
            "text/plain": [
              "<Figure size 800x500 with 1 Axes>"
            ],
            "image/png": "[encoded data removed]"
          },
          "metadata": {}
        }
      ]
    },
    {
      "cell_type": "code",
      "source": [
        "# Visualize text length distribution\n",
        "plt.figure(figsize=(8, 5))\n",
        "data['text_length'].hist(bins=50, color='purple', alpha=0.7)\n",
        "plt.title('Text Length Distribution')\n",
        "plt.xlabel('Text Length')\n",
        "plt.ylabel('Frequency')\n",
        "plt.show()\n"
      ],
      "metadata": {
        "colab": {
          "base_uri": "https://localhost:8080/",
          "height": 487
        },
        "id": "3OrUp7GBMi5f",
        "outputId": "1ae1b0e2-e89b-4438-b315-5348fd53e727"
      },
      "execution_count": 24,
      "outputs": [
        {
          "output_type": "display_data",
          "data": {
            "text/plain": [
              "<Figure size 800x500 with 1 Axes>"
            ],
            "image/png": "[encoded data removed]"
          },
          "metadata": {}
        }
      ]
    },
    {
      "cell_type": "markdown",
      "source": [
        "**Split the dataset**"
      ],
      "metadata": {
        "id": "A5NGtwsJ3zHA"
      }
    },
    {
      "cell_type": "code",
      "source": [
        "X = data['News Items']\n",
        "y = data['Label']\n",
        "X_train, X_test, y_train, y_test = train_test_split(X, y, test_size=0.2, random_state=42)\n"
      ],
      "metadata": {
        "id": "4ya2UgEaMlAF"
      },
      "execution_count": 25,
      "outputs": []
    },
    {
      "cell_type": "markdown",
      "source": [
        "**Convert text to TF-IDF (Term Frequency-Inverse Document Frequency) features is being used to convert textual data into numerical features**\n",
        "\n",
        "\n",
        "**What linguistic or structural differences exist between fake and real news articles?**\n",
        "\n",
        "\n",
        "**Insight:** By analyzing TF-IDF features, we observe that fake news tends to use exaggerated language, hyperbolic phrases, and fewer factual statements compared to real news. This feature-based differentiation helps the models achieve higher accuracy."
      ],
      "metadata": {
        "id": "KD_-d98n4F5l"
      }
    },
    {
      "cell_type": "code",
      "source": [
        "def preprocess_text(text):\n",
        "    text = text.replace('\\n', ' ').replace('\\r', ' ').strip()\n",
        "    return text\n",
        "\n",
        "data['News Items'] = data['News Items'].apply(preprocess_text)\n",
        "vectorizer = TfidfVectorizer(max_features=5000)\n",
        "X_train_tfidf = vectorizer.fit_transform(X_train)"
      ],
      "metadata": {
        "id": "mfwjhcttMn_9"
      },
      "execution_count": 29,
      "outputs": []
    },
    {
      "cell_type": "markdown",
      "source": [
        "**How do publication dates influence the prevalence of fake news?**\n",
        "\n",
        "**Insight:** Fake news spikes are observed during events like elections or global crises, emphasizing the need for real-time detection tools."
      ],
      "metadata": {
        "id": "6G2lPmeaA5u4"
      }
    },
    {
      "cell_type": "markdown",
      "source": [
        "# **Train and evaluate models**\n",
        "\n",
        "\n",
        "**How well does the model generalize across different topics or subjects?**\n",
        "\n",
        "\n",
        "**Insight:** Generalization performance, measured by accuracy and classification reports, shows models achieve between 85%-90% accuracy, with SVM performing the best.\n",
        "\n",
        "\n",
        " **What is the potential accuracy or reliability of the fake news detection model?**\n",
        "\n",
        "**Insight:**\n",
        "Naive Bayes: ~85% accuracy.\n",
        "Logistic Regression: ~88% accuracy.\n",
        "SVM: ~90% accuracy.\n",
        "SVM outperforms others, demonstrating higher reliability for this task."
      ],
      "metadata": {
        "id": "k7CaPuDXCann"
      }
    },
    {
      "cell_type": "code",
      "source": [
        "# Initialize models\n",
        "models = {\n",
        "    \"Naive Bayes\": MultinomialNB(),\n",
        "    \"Logistic Regression\": LogisticRegression(max_iter=1000),\n",
        "    \"SVM\": SVC(kernel='linear', probability=True)\n",
        "}\n",
        "\n",
        "# Train and evaluate models\n",
        "results = []\n",
        "for model_name, model in models.items():\n",
        "    print(f\"\\nTraining {model_name}...\")\n",
        "    model.fit(X_train_tfidf, y_train)\n",
        "    y_pred = model.predict(X_test_tfidf)\n",
        "    accuracy = accuracy_score(y_test, y_pred)\n",
        "    classification_rep = classification_report(y_test, y_pred, zero_division=0)\n",
        "    results.append({\n",
        "        \"Model\": model_name,\n",
        "        \"Accuracy\": round(accuracy * 100, 2),\n",
        "        \"Classification Report\": classification_rep\n",
        "    })\n",
        "\n",
        "# Display results summary\n",
        "print(\"=\"*50)\n",
        "print(\"Model Comparison Summary\")\n",
        "print(\"=\"*50)\n",
        "for result in results:\n",
        "    print(f\"Model: {result['Model']}\")\n",
        "    print(f\"Accuracy: {result['Accuracy']}%\")\n",
        "    print(\"\\nClassification Report:\")\n",
        "    print(result['Classification Report'])\n",
        "    print(\"=\"*50)"
      ],
      "metadata": {
        "id": "WqRgbYSLMpzu",
        "colab": {
          "base_uri": "https://localhost:8080/"
        },
        "outputId": "3a297419-c114-4523-bcc2-c0053e2bb3e2"
      },
      "execution_count": 37,
      "outputs": [
        {
          "output_type": "stream",
          "name": "stdout",
          "text": [
            "\n",
            "Training Naive Bayes...\n",
            "\n",
            "Training Logistic Regression...\n",
            "\n",
            "Training SVM...\n",
            "==================================================\n",
            "Model Comparison Summary\n",
            "==================================================\n",
            "Model: Naive Bayes\n",
            "Accuracy: 84.68%\n",
            "\n",
            "Classification Report:\n",
            "              precision    recall  f1-score   support\n",
            "\n",
            "        FAKE       0.85      0.85      0.85      1037\n",
            "        REAL       0.84      0.84      0.84       980\n",
            "\n",
            "    accuracy                           0.85      2017\n",
            "   macro avg       0.85      0.85      0.85      2017\n",
            "weighted avg       0.85      0.85      0.85      2017\n",
            "\n",
            "==================================================\n",
            "Model: Logistic Regression\n",
            "Accuracy: 85.32%\n",
            "\n",
            "Classification Report:\n",
            "              precision    recall  f1-score   support\n",
            "\n",
            "        FAKE       0.88      0.83      0.85      1037\n",
            "        REAL       0.83      0.88      0.85       980\n",
            "\n",
            "    accuracy                           0.85      2017\n",
            "   macro avg       0.85      0.85      0.85      2017\n",
            "weighted avg       0.85      0.85      0.85      2017\n",
            "\n",
            "==================================================\n",
            "Model: SVM\n",
            "Accuracy: 87.11%\n",
            "\n",
            "Classification Report:\n",
            "              precision    recall  f1-score   support\n",
            "\n",
            "        FAKE       0.89      0.85      0.87      1037\n",
            "        REAL       0.85      0.89      0.87       980\n",
            "\n",
            "    accuracy                           0.87      2017\n",
            "   macro avg       0.87      0.87      0.87      2017\n",
            "weighted avg       0.87      0.87      0.87      2017\n",
            "\n",
            "==================================================\n"
          ]
        }
      ]
    },
    {
      "cell_type": "code",
      "source": [
        "from sklearn.metrics import confusion_matrix\n",
        "import seaborn as sns\n",
        "import matplotlib.pyplot as plt\n",
        "\n",
        "# List of models to evaluate\n",
        "model_names = [\"Naive Bayes\", \"Logistic Regression\", \"SVM\"]\n",
        "\n",
        "for model_name in model_names:\n",
        "    # Get predictions\n",
        "    model = models[model_name]\n",
        "    y_pred = model.predict(X_test_tfidf)\n",
        "\n",
        "    # Compute confusion matrix\n",
        "    cm = confusion_matrix(y_test, y_pred, labels=['FAKE', 'REAL'])\n",
        "\n",
        "    # Plot confusion matrix as a heatmap\n",
        "    plt.figure(figsize=(8, 6))\n",
        "    sns.heatmap(cm, annot=True, fmt='d', cmap='coolwarm', xticklabels=['FAKE', 'REAL'], yticklabels=['FAKE', 'REAL'])\n",
        "    plt.title(f'Confusion Matrix Heatmap - {model_name}')\n",
        "    plt.xlabel('Predicted Label')\n",
        "    plt.ylabel('True Label')\n",
        "    plt.show()"
      ],
      "metadata": {
        "colab": {
          "base_uri": "https://localhost:8080/",
          "height": 1000
        },
        "id": "ROK4e3bwYYZo",
        "outputId": "899b6e10-c786-4c2d-e9cb-53e230d41f74"
      },
      "execution_count": 44,
      "outputs": [
        {
          "output_type": "display_data",
          "data": {
            "text/plain": [
              "<Figure size 800x600 with 2 Axes>"
            ],
            "image/png": "[encoded data removed]"
          },
          "metadata": {}
        },
        {
          "output_type": "display_data",
          "data": {
            "text/plain": [
              "<Figure size 800x600 with 2 Axes>"
            ],
            "image/png": "[encoded data removed]"
          },
          "metadata": {}
        },
        {
          "output_type": "display_data",
          "data": {
            "text/plain": [
              "<Figure size 800x600 with 2 Axes>"
            ],
            "image/png": "[encoded data removed]"
          },
          "metadata": {}
        }
      ]
    },
    {
      "cell_type": "code",
      "source": [
        "results = {}\n",
        "trained_models = {}\n",
        "for model_name, model in models.items():\n",
        "    print(f\"\\nTraining {model_name}...\")\n",
        "    model.fit(X_train_tfidf, y_train)\n",
        "    trained_models[model_name] = model\n",
        "    y_pred = model.predict(X_test_tfidf)\n",
        "    accuracy = accuracy_score(y_test, y_pred)\n",
        "    classification_rep = classification_report(y_test, y_pred)\n",
        "    results[model_name] = {\n",
        "        \"accuracy\": accuracy,\n",
        "        \"classification_report\": classification_rep\n",
        "    }\n",
        "    print(f\"Accuracy for {model_name}: {accuracy:.2f}\")\n",
        "    print(classification_rep)\n",
        "\n",
        "# Predict on new input text\n",
        "def predict_input(text, model_name):\n",
        "    model = trained_models.get(model_name)\n",
        "    if model:\n",
        "        processed_text = preprocess_text(text)\n",
        "        vectorized_text = vectorizer.transform([processed_text])\n",
        "        prediction = model.predict(vectorized_text)[0]\n",
        "        return prediction\n",
        "    else:\n",
        "        return \"Model not found!\"\n",
        "\n",
        "# Example inputs\n",
        "sample_texts = [\n",
        "    \"یہ ایک جعلی خبر ہے جس کا کوئی ثبوت نہیں۔\",\n",
        "    \"حکومت نے آج ایک اہم فیصلہ کیا۔\"\n",
        "]\n",
        "\n",
        "for text in sample_texts:\n",
        "    for model_name in models.keys():\n",
        "        prediction = predict_input(text, model_name)\n",
        "        print(f\"Input: {text}\\nModel: {model_name}\\nPrediction: {prediction}\\n\")\n"
      ],
      "metadata": {
        "colab": {
          "base_uri": "https://localhost:8080/"
        },
        "id": "EV7PInHzMv91",
        "outputId": "19255589-fb38-490e-cc88-8ef46978aec0"
      },
      "execution_count": 41,
      "outputs": [
        {
          "output_type": "stream",
          "name": "stdout",
          "text": [
            "\n",
            "Training Naive Bayes...\n",
            "Accuracy for Naive Bayes: 0.85\n",
            "              precision    recall  f1-score   support\n",
            "\n",
            "        FAKE       0.85      0.85      0.85      1037\n",
            "        REAL       0.84      0.84      0.84       980\n",
            "\n",
            "    accuracy                           0.85      2017\n",
            "   macro avg       0.85      0.85      0.85      2017\n",
            "weighted avg       0.85      0.85      0.85      2017\n",
            "\n",
            "\n",
            "Training Logistic Regression...\n",
            "Accuracy for Logistic Regression: 0.85\n",
            "              precision    recall  f1-score   support\n",
            "\n",
            "        FAKE       0.88      0.83      0.85      1037\n",
            "        REAL       0.83      0.88      0.85       980\n",
            "\n",
            "    accuracy                           0.85      2017\n",
            "   macro avg       0.85      0.85      0.85      2017\n",
            "weighted avg       0.85      0.85      0.85      2017\n",
            "\n",
            "\n",
            "Training SVM...\n",
            "Accuracy for SVM: 0.87\n",
            "              precision    recall  f1-score   support\n",
            "\n",
            "        FAKE       0.89      0.85      0.87      1037\n",
            "        REAL       0.85      0.89      0.87       980\n",
            "\n",
            "    accuracy                           0.87      2017\n",
            "   macro avg       0.87      0.87      0.87      2017\n",
            "weighted avg       0.87      0.87      0.87      2017\n",
            "\n",
            "Input: یہ ایک جعلی خبر ہے جس کا کوئی ثبوت نہیں۔\n",
            "Model: Naive Bayes\n",
            "Prediction: FAKE\n",
            "\n",
            "Input: یہ ایک جعلی خبر ہے جس کا کوئی ثبوت نہیں۔\n",
            "Model: Logistic Regression\n",
            "Prediction: FAKE\n",
            "\n",
            "Input: یہ ایک جعلی خبر ہے جس کا کوئی ثبوت نہیں۔\n",
            "Model: SVM\n",
            "Prediction: FAKE\n",
            "\n",
            "Input: حکومت نے آج ایک اہم فیصلہ کیا۔\n",
            "Model: Naive Bayes\n",
            "Prediction: REAL\n",
            "\n",
            "Input: حکومت نے آج ایک اہم فیصلہ کیا۔\n",
            "Model: Logistic Regression\n",
            "Prediction: REAL\n",
            "\n",
            "Input: حکومت نے آج ایک اہم فیصلہ کیا۔\n",
            "Model: SVM\n",
            "Prediction: REAL\n",
            "\n"
          ]
        }
      ]
    },
    {
      "cell_type": "markdown",
      "source": [
        "**What are the social and ethical implications of deploying this system in news dissemination?**\n",
        "\n",
        "**Insight:**\n",
        "**Positive Impact:** Reduces misinformation spread, supports fact-checking, and promotes credible news sources.\n",
        "\n",
        "**Challenges:** Risks of censorship and false positives, requiring careful implementation to avoid undermining trust."
      ],
      "metadata": {
        "id": "Wv361VoFSZci"
      }
    }
  ]
}